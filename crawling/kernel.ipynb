{
 "cells": [
  {
   "cell_type": "code",
   "execution_count": 46,
   "metadata": {
    "collapsed": true
   },
   "outputs": [],
   "source": [
    "from selenium import webdriver\n",
    "from selenium.webdriver.common.by import By\n",
    "from selenium.webdriver.common.keys import Keys\n",
    "\n",
    "from bs4 import BeautifulSoup\n",
    "\n",
    "import pandas as pd"
   ]
  },
  {
   "cell_type": "code",
   "execution_count": 56,
   "outputs": [],
   "source": [
    "# RESOURCE_URI: 에어코리아 uri\n",
    "RESOURCE_URI = \"https://www.airkorea.or.kr/web/pastSearch\"\n",
    "# LOCAL_ADDRESS: 측정소 위치(학교에서 제일 가까운 곳)\n",
    "LOCAL_ADDRESS = \"경기 수원시 영통구 영통로 217번길 12 영통2동 행정복지센터\"\n",
    "# Features of data\n",
    "FEATURES = ['DATE', 'PM10', 'PM2.5', 'O3', 'NO2', 'CO', 'SO2']\n",
    "# Output directory\n",
    "OUT_DIR = '../datasets/'"
   ],
   "metadata": {
    "collapsed": false,
    "pycharm": {
     "name": "#%%\n"
    }
   }
  },
  {
   "cell_type": "code",
   "execution_count": 57,
   "outputs": [],
   "source": [
    "def date_mapping(year, month):\n",
    "    return 2022 - year, month\n",
    "\n",
    "def format_and_save_data(src, year, month):\n",
    "    soup = BeautifulSoup(src, 'html.parser')\n",
    "    rows = soup.find('div', id='realTable').find('table', class_='st_1').find('tbody').find_all('tr')\n",
    "    data = []\n",
    "\n",
    "    for row in rows:\n",
    "        cols = row.find_all('td')\n",
    "        cols = [ele.text.strip() for ele in cols]\n",
    "        data.append(cols)\n",
    "\n",
    "    pd.DataFrame(data=data, columns=FEATURES).to_csv(OUT_DIR + '%04d-%02d.csv' % (year, month), index=False)\n",
    "\n",
    "def search_data(window=None, year=2021, month=1):\n",
    "    year_index, month_index = date_mapping(year, month)\n",
    "    window.find_element(By.ID, 'choice_1').click()\n",
    "    window.find_element(By.XPATH, f'//*[@id=\"choice_3\"]/option[{year_index}]').click()\n",
    "    window.find_element(By.XPATH, f'//*[@id=\"choice_4\"]/option[{month_index}]').click()\n",
    "    window.find_element(By.XPATH, '//*[@id=\"cont_body\"]/div[1]/a[1]').click()\n",
    "    src = window.page_source\n",
    "    format_and_save_data(src, year, month)"
   ],
   "metadata": {
    "collapsed": false,
    "pycharm": {
     "name": "#%%\n"
    }
   }
  },
  {
   "cell_type": "code",
   "execution_count": 58,
   "outputs": [
    {
     "name": "stderr",
     "output_type": "stream",
     "text": [
      "/var/folders/58/x3g7q1s97rn5dkfks3kbh5jc0000gn/T/ipykernel_31739/246435124.py:2: DeprecationWarning: executable_path has been deprecated, please pass in a Service object\n",
      "  win = webdriver.Chrome('/usr/local/bin/chromedriver')\n"
     ]
    }
   ],
   "source": [
    "# Open Chrome Browser\n",
    "win = webdriver.Chrome('/usr/local/bin/chromedriver')\n",
    "win.get(RESOURCE_URI)"
   ],
   "metadata": {
    "collapsed": false,
    "pycharm": {
     "name": "#%%\n"
    }
   }
  },
  {
   "cell_type": "code",
   "execution_count": 59,
   "outputs": [
    {
     "name": "stdout",
     "output_type": "stream",
     "text": [
      "Successfully switched to \"https://www.juso.go.kr/addrlink/addrCoordUrl.do\"\n"
     ]
    }
   ],
   "source": [
    "# Save current window as main window\n",
    "main_win = win.current_window_handle\n",
    "\n",
    "# Click event for address field\n",
    "win.find_element(By.ID, 's_condition_input3').click()\n",
    "\n",
    "# If window has changed for pop up event change window from main to new\n",
    "for handle in win.window_handles:\n",
    "    if handle != main_win:\n",
    "        popup = handle\n",
    "        win.switch_to.window(popup)\n",
    "\n",
    "print(f'Successfully switched to \"{win.current_url}\"')"
   ],
   "metadata": {
    "collapsed": false,
    "pycharm": {
     "name": "#%%\n"
    }
   }
  },
  {
   "cell_type": "code",
   "execution_count": 60,
   "outputs": [
    {
     "name": "stdout",
     "output_type": "stream",
     "text": [
      "Successfully switched to \"https://www.airkorea.or.kr/web/pastSearch\"\n"
     ]
    }
   ],
   "source": [
    "# Write local address in address field and click search button\n",
    "win.find_element(By.ID, 'keyword').send_keys(LOCAL_ADDRESS + Keys.ENTER)\n",
    "win.find_element(By.ID, 'roadAddrTd1').click()\n",
    "# Write detail address and click button\n",
    "win.find_element(By.ID, 'rtAddrDetail').send_keys('공학관')\n",
    "win.find_element(By.CLASS_NAME, 'btn-bl').click()\n",
    "\n",
    "# Return to main window\n",
    "win.switch_to.window(main_win)\n",
    "print(f'Successfully switched to \"{win.current_url}\"')\n",
    "\n",
    "# Search with options\n",
    "win.find_element(By.CLASS_NAME, 'search').click()"
   ],
   "metadata": {
    "collapsed": false,
    "pycharm": {
     "name": "#%%\n"
    }
   }
  },
  {
   "cell_type": "code",
   "execution_count": 61,
   "outputs": [
    {
     "name": "stdout",
     "output_type": "stream",
     "text": [
      "2014-1 data successfully downloaded!\n",
      "2014-2 data successfully downloaded!\n",
      "2014-3 data successfully downloaded!\n",
      "2014-4 data successfully downloaded!\n",
      "2014-5 data successfully downloaded!\n",
      "2014-6 data successfully downloaded!\n",
      "2014-7 data successfully downloaded!\n",
      "2014-8 data successfully downloaded!\n",
      "2014-9 data successfully downloaded!\n",
      "2014-10 data successfully downloaded!\n",
      "2014-11 data successfully downloaded!\n",
      "2014-12 data successfully downloaded!\n",
      "2015-1 data successfully downloaded!\n",
      "2015-2 data successfully downloaded!\n",
      "2015-3 data successfully downloaded!\n",
      "2015-4 data successfully downloaded!\n",
      "2015-5 data successfully downloaded!\n",
      "2015-6 data successfully downloaded!\n",
      "2015-7 data successfully downloaded!\n",
      "2015-8 data successfully downloaded!\n",
      "2015-9 data successfully downloaded!\n",
      "2015-10 data successfully downloaded!\n",
      "2015-11 data successfully downloaded!\n",
      "2015-12 data successfully downloaded!\n",
      "2016-1 data successfully downloaded!\n",
      "2016-2 data successfully downloaded!\n",
      "2016-3 data successfully downloaded!\n",
      "2016-4 data successfully downloaded!\n",
      "2016-5 data successfully downloaded!\n",
      "2016-6 data successfully downloaded!\n",
      "2016-7 data successfully downloaded!\n",
      "2016-8 data successfully downloaded!\n",
      "2016-9 data successfully downloaded!\n",
      "2016-10 data successfully downloaded!\n",
      "2016-11 data successfully downloaded!\n",
      "2016-12 data successfully downloaded!\n",
      "2017-1 data successfully downloaded!\n",
      "2017-2 data successfully downloaded!\n",
      "2017-3 data successfully downloaded!\n",
      "2017-4 data successfully downloaded!\n",
      "2017-5 data successfully downloaded!\n",
      "2017-6 data successfully downloaded!\n",
      "2017-7 data successfully downloaded!\n",
      "2017-8 data successfully downloaded!\n",
      "2017-9 data successfully downloaded!\n",
      "2017-10 data successfully downloaded!\n",
      "2017-11 data successfully downloaded!\n",
      "2017-12 data successfully downloaded!\n",
      "2018-1 data successfully downloaded!\n",
      "2018-2 data successfully downloaded!\n",
      "2018-3 data successfully downloaded!\n",
      "2018-4 data successfully downloaded!\n",
      "2018-5 data successfully downloaded!\n",
      "2018-6 data successfully downloaded!\n",
      "2018-7 data successfully downloaded!\n",
      "2018-8 data successfully downloaded!\n",
      "2018-9 data successfully downloaded!\n",
      "2018-10 data successfully downloaded!\n",
      "2018-11 data successfully downloaded!\n",
      "2018-12 data successfully downloaded!\n",
      "2019-1 data successfully downloaded!\n",
      "2019-2 data successfully downloaded!\n",
      "2019-3 data successfully downloaded!\n",
      "2019-4 data successfully downloaded!\n",
      "2019-5 data successfully downloaded!\n",
      "2019-6 data successfully downloaded!\n",
      "2019-7 data successfully downloaded!\n",
      "2019-8 data successfully downloaded!\n",
      "2019-9 data successfully downloaded!\n",
      "2019-10 data successfully downloaded!\n",
      "2019-11 data successfully downloaded!\n",
      "2019-12 data successfully downloaded!\n",
      "2020-1 data successfully downloaded!\n",
      "2020-2 data successfully downloaded!\n",
      "2020-3 data successfully downloaded!\n",
      "2020-4 data successfully downloaded!\n",
      "2020-5 data successfully downloaded!\n",
      "2020-6 data successfully downloaded!\n",
      "2020-7 data successfully downloaded!\n",
      "2020-8 data successfully downloaded!\n",
      "2020-9 data successfully downloaded!\n",
      "2020-10 data successfully downloaded!\n",
      "2020-11 data successfully downloaded!\n",
      "2020-12 data successfully downloaded!\n",
      "2021-1 data successfully downloaded!\n",
      "2021-2 data successfully downloaded!\n",
      "2021-3 data successfully downloaded!\n",
      "2021-4 data successfully downloaded!\n",
      "2021-5 data successfully downloaded!\n",
      "2021-6 data successfully downloaded!\n",
      "2021-7 data successfully downloaded!\n",
      "2021-8 data successfully downloaded!\n",
      "2021-9 data successfully downloaded!\n",
      "error generated at year: 2021 and month: 10\n",
      "7 columns passed, passed data had 1 columns\n",
      "error generated at year: 2021 and month: 11\n",
      "7 columns passed, passed data had 1 columns\n",
      "error generated at year: 2021 and month: 12\n",
      "7 columns passed, passed data had 1 columns\n"
     ]
    }
   ],
   "source": [
    "for y in range(2014, 2022):\n",
    "    for m in range(1, 13):\n",
    "        try:\n",
    "            search_data(win, y, m)\n",
    "            print(f'{y}-{m} data successfully downloaded!')\n",
    "        except Exception as e:\n",
    "            print(f'error generated at year: {y} and month: {m}')\n",
    "            print(e)\n",
    "\n",
    "win.quit()"
   ],
   "metadata": {
    "collapsed": false,
    "pycharm": {
     "name": "#%%\n"
    }
   }
  },
  {
   "cell_type": "code",
   "execution_count": null,
   "outputs": [],
   "source": [],
   "metadata": {
    "collapsed": false,
    "pycharm": {
     "name": "#%%\n"
    }
   }
  }
 ],
 "metadata": {
  "kernelspec": {
   "display_name": "Python 3",
   "language": "python",
   "name": "python3"
  },
  "language_info": {
   "codemirror_mode": {
    "name": "ipython",
    "version": 2
   },
   "file_extension": ".py",
   "mimetype": "text/x-python",
   "name": "python",
   "nbconvert_exporter": "python",
   "pygments_lexer": "ipython2",
   "version": "2.7.6"
  }
 },
 "nbformat": 4,
 "nbformat_minor": 0
}