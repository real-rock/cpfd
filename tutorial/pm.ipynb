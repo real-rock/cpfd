{
 "cells": [
  {
   "cell_type": "code",
   "execution_count": 1,
   "metadata": {
    "collapsed": true
   },
   "outputs": [],
   "source": [
    "import pandas as pd\n",
    "import numpy as np\n",
    "import tensorflow as tf\n",
    "import matplotlib.pyplot as plt\n",
    "from datetime import datetime"
   ]
  },
  {
   "cell_type": "code",
   "execution_count": 136,
   "outputs": [
    {
     "data": {
      "text/plain": "                  DATE  TEMPERATURE (°C)  WIND (m/s)  WIND DIR (°)  \\\n0  2014-01-01 00:00:00               3.7         2.7         270.0   \n1  2014-01-01 01:00:00               2.9         1.2         270.0   \n2  2014-01-01 02:00:00              -0.1         0.1           0.0   \n3  2014-01-01 03:00:00              -1.5         0.7         140.0   \n4  2014-01-01 04:00:00              -1.5         0.5          20.0   \n\n   HUMIDITY (%)  PRESSURE (hPa)  \n0          77.0          1008.7  \n1          78.0          1009.1  \n2          90.0          1009.3  \n3          94.0          1009.4  \n4          94.0          1009.4  ",
      "text/html": "<div>\n<style scoped>\n    .dataframe tbody tr th:only-of-type {\n        vertical-align: middle;\n    }\n\n    .dataframe tbody tr th {\n        vertical-align: top;\n    }\n\n    .dataframe thead th {\n        text-align: right;\n    }\n</style>\n<table border=\"1\" class=\"dataframe\">\n  <thead>\n    <tr style=\"text-align: right;\">\n      <th></th>\n      <th>DATE</th>\n      <th>TEMPERATURE (°C)</th>\n      <th>WIND (m/s)</th>\n      <th>WIND DIR (°)</th>\n      <th>HUMIDITY (%)</th>\n      <th>PRESSURE (hPa)</th>\n    </tr>\n  </thead>\n  <tbody>\n    <tr>\n      <th>0</th>\n      <td>2014-01-01 00:00:00</td>\n      <td>3.7</td>\n      <td>2.7</td>\n      <td>270.0</td>\n      <td>77.0</td>\n      <td>1008.7</td>\n    </tr>\n    <tr>\n      <th>1</th>\n      <td>2014-01-01 01:00:00</td>\n      <td>2.9</td>\n      <td>1.2</td>\n      <td>270.0</td>\n      <td>78.0</td>\n      <td>1009.1</td>\n    </tr>\n    <tr>\n      <th>2</th>\n      <td>2014-01-01 02:00:00</td>\n      <td>-0.1</td>\n      <td>0.1</td>\n      <td>0.0</td>\n      <td>90.0</td>\n      <td>1009.3</td>\n    </tr>\n    <tr>\n      <th>3</th>\n      <td>2014-01-01 03:00:00</td>\n      <td>-1.5</td>\n      <td>0.7</td>\n      <td>140.0</td>\n      <td>94.0</td>\n      <td>1009.4</td>\n    </tr>\n    <tr>\n      <th>4</th>\n      <td>2014-01-01 04:00:00</td>\n      <td>-1.5</td>\n      <td>0.5</td>\n      <td>20.0</td>\n      <td>94.0</td>\n      <td>1009.4</td>\n    </tr>\n  </tbody>\n</table>\n</div>"
     },
     "execution_count": 136,
     "metadata": {},
     "output_type": "execute_result"
    }
   ],
   "source": [
    "df = pd.read_csv('../datasets/weather/summary.csv')\n",
    "df.head()"
   ],
   "metadata": {
    "collapsed": false,
    "pycharm": {
     "name": "#%%\n"
    }
   }
  },
  {
   "cell_type": "code",
   "execution_count": 137,
   "outputs": [],
   "source": [
    "df_without_date = df.drop(columns='DATE')"
   ],
   "metadata": {
    "collapsed": false,
    "pycharm": {
     "name": "#%%\n"
    }
   }
  },
  {
   "cell_type": "code",
   "execution_count": 115,
   "outputs": [],
   "source": [
    "ap_df = pd.read_csv('../datasets/air_pollution_suwon/summary.csv')"
   ],
   "metadata": {
    "collapsed": false,
    "pycharm": {
     "name": "#%%\n"
    }
   }
  },
  {
   "cell_type": "code",
   "execution_count": null,
   "outputs": [],
   "source": [],
   "metadata": {
    "collapsed": false,
    "pycharm": {
     "name": "#%%\n"
    }
   }
  }
 ],
 "metadata": {
  "kernelspec": {
   "display_name": "Python 3",
   "language": "python",
   "name": "python3"
  },
  "language_info": {
   "codemirror_mode": {
    "name": "ipython",
    "version": 2
   },
   "file_extension": ".py",
   "mimetype": "text/x-python",
   "name": "python",
   "nbconvert_exporter": "python",
   "pygments_lexer": "ipython2",
   "version": "2.7.6"
  }
 },
 "nbformat": 4,
 "nbformat_minor": 0
}