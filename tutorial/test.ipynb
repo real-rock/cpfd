{
 "cells": [
  {
   "cell_type": "code",
   "execution_count": 2,
   "metadata": {
    "collapsed": true
   },
   "outputs": [],
   "source": [
    "import pandas as pd\n",
    "import numpy as np\n",
    "import datetime\n",
    "import matplotlib.pyplot as plt"
   ]
  },
  {
   "cell_type": "code",
   "execution_count": 64,
   "outputs": [],
   "source": [
    "min_date = datetime.datetime.strptime('2022-03-07 14:48:00', '%Y-%m-%d %H:%M:%S')\n",
    "max_date = datetime.datetime.strptime('2022-04-15 15:15:00', '%Y-%m-%d %H:%M:%S')\n",
    "\n",
    "endpoints = ['107', '120', '121', '124', '134', '199', '190']\n",
    "out = '196'\n",
    "h_out = '181'\n",
    "cols = ['PM1', 'PM2.5', 'PM10']"
   ],
   "metadata": {
    "collapsed": false,
    "pycharm": {
     "name": "#%%\n"
    }
   }
  },
  {
   "cell_type": "code",
   "execution_count": 67,
   "outputs": [],
   "source": [
    "dates = pd.date_range(min_date, max_date, freq='min').strftime('%Y-%m-%d %H:%M:%S').tolist()"
   ],
   "metadata": {
    "collapsed": false,
    "pycharm": {
     "name": "#%%\n"
    }
   }
  },
  {
   "cell_type": "code",
   "execution_count": 66,
   "outputs": [],
   "source": [
    "dts = []\n",
    "for date in dates:\n",
    "    dts.append(datetime.datetime.strptime(date, '%Y-%m-%d %H:%M:%S'))"
   ],
   "metadata": {
    "collapsed": false,
    "pycharm": {
     "name": "#%%\n"
    }
   }
  },
  {
   "cell_type": "code",
   "execution_count": 68,
   "outputs": [
    {
     "name": "stdout",
     "output_type": "stream",
     "text": [
      "[INFO] src: ../datasets/indoor_particles/csv/particle107.csv\n",
      "[INFO] src: ../datasets/indoor_particles/csv/particle120.csv\n",
      "[INFO] src: ../datasets/indoor_particles/csv/particle121.csv\n",
      "[INFO] src: ../datasets/indoor_particles/csv/particle124.csv\n",
      "[INFO] src: ../datasets/indoor_particles/csv/particle134.csv\n",
      "[INFO] src: ../datasets/indoor_particles/csv/particle199.csv\n",
      "[INFO] src: ../datasets/indoor_particles/csv/particle190.csv\n"
     ]
    }
   ],
   "source": [
    "dfs = []\n",
    "\n",
    "for endpoint in endpoints:\n",
    "    src = f'../datasets/indoor_particles/csv/particle{endpoint}.csv'\n",
    "    print('[INFO] src: ' + src)\n",
    "    df = pd.read_csv(src)\n",
    "    tmp_dts = []\n",
    "    for time in df['DATE'].values:\n",
    "        time = time[:16]\n",
    "        tmp_dts.append(datetime.datetime.strptime(time, '%Y-%m-%d %H:%M'))\n",
    "    df['DATE'] = tmp_dts\n",
    "    df = df.drop_duplicates('DATE', keep='last')\n",
    "    df.index = df['DATE']\n",
    "    if endpoint != '190':\n",
    "        dfs.append(df.drop(columns=['DATE']))\n",
    "    else:\n",
    "        dfs[4] = pd.concat([dfs[4], df.drop(columns=['DATE'])], axis=0)\n",
    "        dfs[4].sort_index(inplace=True)\n",
    "        dfs[4].drop(dfs[4][dfs[4].index.duplicated(keep='last')].index, inplace=True)"
   ],
   "metadata": {
    "collapsed": false,
    "pycharm": {
     "name": "#%%\n"
    }
   }
  },
  {
   "cell_type": "code",
   "execution_count": 69,
   "outputs": [],
   "source": [
    "for idx, df in enumerate(dfs):\n",
    "    dfs[idx] = df[(df.index > min_date) & (df.index < max_date)]"
   ],
   "metadata": {
    "collapsed": false,
    "pycharm": {
     "name": "#%%\n"
    }
   }
  },
  {
   "cell_type": "code",
   "execution_count": 71,
   "outputs": [],
   "source": [
    "pm1 = np.zeros(len(dates))\n",
    "pm25 = np.zeros(len(dates))\n",
    "pm10 = np.zeros(len(dates))\n",
    "\n",
    "avg_df = pd.DataFrame(data={'PM1': pm1, 'PM2.5': pm25, 'PM10': pm10}, index=dts)"
   ],
   "metadata": {
    "collapsed": false,
    "pycharm": {
     "name": "#%%\n"
    }
   }
  },
  {
   "cell_type": "code",
   "execution_count": 72,
   "outputs": [],
   "source": [
    "for dt in avg_df.index.values:\n",
    "    for df in dfs:\n",
    "        avg_df[avg_df.index == dt] += df[df.index == dt]\n",
    "avg_df /= 5"
   ],
   "metadata": {
    "collapsed": false,
    "pycharm": {
     "name": "#%%\n"
    }
   }
  },
  {
   "cell_type": "code",
   "execution_count": 73,
   "outputs": [],
   "source": [
    "avg_df = avg_df.dropna()"
   ],
   "metadata": {
    "collapsed": false,
    "pycharm": {
     "name": "#%%\n"
    }
   }
  },
  {
   "cell_type": "code",
   "execution_count": 75,
   "outputs": [],
   "source": [
    "h_out_src = '../datasets/indoor_particles/csv/particle181.csv'\n",
    "out_src = '../datasets/indoor_particles/csv/particle196.csv'\n",
    "h_out_df = pd.read_csv(h_out_src)\n",
    "out_df = pd.read_csv(out_src)"
   ],
   "metadata": {
    "collapsed": false,
    "pycharm": {
     "name": "#%%\n"
    }
   }
  },
  {
   "cell_type": "code",
   "execution_count": 76,
   "outputs": [],
   "source": [
    "h_out_dts = []\n",
    "out_dts = []\n",
    "for dt in h_out_df['DATE']:\n",
    "    dt = dt[:16]\n",
    "    h_out_dts.append(datetime.datetime.strptime(dt, '%Y-%m-%d %H:%M'))\n",
    "\n",
    "for dt in out_df['DATE']:\n",
    "    dt = dt[:16]\n",
    "    out_dts.append(datetime.datetime.strptime(dt, '%Y-%m-%d %H:%M'))\n",
    "\n",
    "h_out_df['DATE'] = h_out_dts\n",
    "h_out_df = h_out_df.drop_duplicates('DATE', keep='last')\n",
    "h_out_df.index = h_out_df['DATE']\n",
    "h_out_df.drop(columns=['DATE'], inplace=True)\n",
    "\n",
    "out_df['DATE'] = out_dts\n",
    "out_df = out_df.drop_duplicates('DATE', keep='last')\n",
    "out_df.index = out_df['DATE']\n",
    "out_df.drop(columns=['DATE'], inplace=True)"
   ],
   "metadata": {
    "collapsed": false,
    "pycharm": {
     "name": "#%%\n"
    }
   }
  },
  {
   "cell_type": "code",
   "execution_count": 77,
   "outputs": [],
   "source": [
    "h_out_df = h_out_df[(h_out_df.index > min_date) & (h_out_df.index < max_date)]\n",
    "out_df = out_df[(out_df.index > min_date) & (out_df.index < max_date)]"
   ],
   "metadata": {
    "collapsed": false,
    "pycharm": {
     "name": "#%%\n"
    }
   }
  },
  {
   "cell_type": "code",
   "execution_count": 100,
   "outputs": [],
   "source": [
    "h_out_df.columns = ['PM1_H_OUT', 'PM2.5_H_OUT', 'PM10_H_OUT']\n",
    "out_df.columns = ['PM1_OUT', 'PM2.5_OUT', 'PM10_OUT']"
   ],
   "metadata": {
    "collapsed": false,
    "pycharm": {
     "name": "#%%\n"
    }
   }
  },
  {
   "cell_type": "code",
   "execution_count": 103,
   "outputs": [],
   "source": [
    "total_df = pd.concat([avg_df, h_out_df, out_df], join='outer', axis=1).fillna(0)"
   ],
   "metadata": {
    "collapsed": false,
    "pycharm": {
     "name": "#%%\n"
    }
   }
  },
  {
   "cell_type": "code",
   "execution_count": 119,
   "outputs": [],
   "source": [
    "total_df['PERSON_NUMBER'] = np.zeros(total_df.shape[0])\n",
    "total_df['AIR_PURIFIER'] = np.zeros(total_df.shape[0])\n",
    "total_df['WINDOW'] = np.zeros(total_df.shape[0])"
   ],
   "metadata": {
    "collapsed": false,
    "pycharm": {
     "name": "#%%\n"
    }
   }
  },
  {
   "cell_type": "code",
   "execution_count": 124,
   "outputs": [],
   "source": [
    "def trim_df(df):\n",
    "    tmp_dts = []\n",
    "    for time in df['DATE'].values:\n",
    "        tmp_dts.append(datetime.datetime.strptime(time, '%Y-%m-%d %H:%M:%S'))\n",
    "    df['DATE'] = tmp_dts\n",
    "    df.drop_duplicates('DATE', keep='last', inplace=True)\n",
    "    df.index = df['DATE']\n",
    "    df.drop(columns=['DATE'], inplace=True)\n",
    "    return df"
   ],
   "metadata": {
    "collapsed": false,
    "pycharm": {
     "name": "#%%\n"
    }
   }
  },
  {
   "cell_type": "code",
   "execution_count": 143,
   "outputs": [],
   "source": [
    "person_df = trim_df(pd.read_csv('../datasets/inout/person.csv'))\n",
    "window_df = trim_df(pd.read_csv('../datasets/inout/window.csv'))\n",
    "ap_df = trim_df(pd.read_csv('../datasets/inout/air_purifier.csv'))"
   ],
   "metadata": {
    "collapsed": false,
    "pycharm": {
     "name": "#%%\n"
    }
   }
  },
  {
   "cell_type": "code",
   "execution_count": 167,
   "outputs": [
    {
     "data": {
      "text/plain": "Empty DataFrame\nColumns: [PM1, PM2.5, PM10, PM1_H_OUT, PM2.5_H_OUT, PM10_H_OUT, PM1_OUT, PM2.5_OUT, PM10_OUT, PERSON_NUMBER, AIR_PURIFIER, WINDOW]\nIndex: []",
      "text/html": "<div>\n<style scoped>\n    .dataframe tbody tr th:only-of-type {\n        vertical-align: middle;\n    }\n\n    .dataframe tbody tr th {\n        vertical-align: top;\n    }\n\n    .dataframe thead th {\n        text-align: right;\n    }\n</style>\n<table border=\"1\" class=\"dataframe\">\n  <thead>\n    <tr style=\"text-align: right;\">\n      <th></th>\n      <th>PM1</th>\n      <th>PM2.5</th>\n      <th>PM10</th>\n      <th>PM1_H_OUT</th>\n      <th>PM2.5_H_OUT</th>\n      <th>PM10_H_OUT</th>\n      <th>PM1_OUT</th>\n      <th>PM2.5_OUT</th>\n      <th>PM10_OUT</th>\n      <th>PERSON_NUMBER</th>\n      <th>AIR_PURIFIER</th>\n      <th>WINDOW</th>\n    </tr>\n  </thead>\n  <tbody>\n  </tbody>\n</table>\n</div>"
     },
     "execution_count": 167,
     "metadata": {},
     "output_type": "execute_result"
    }
   ],
   "source": [
    "total_df[total_df['WINDOW'] < 0]"
   ],
   "metadata": {
    "collapsed": false,
    "pycharm": {
     "name": "#%%\n"
    }
   }
  },
  {
   "cell_type": "code",
   "execution_count": 147,
   "outputs": [],
   "source": [
    "size = len(person_df.index.values)\n",
    "pn_df = total_df['PERSON_NUMBER']\n",
    "\n",
    "for idx, dt in enumerate(person_df.index.values):\n",
    "    if idx == size - 1:\n",
    "        pn_df[pn_df.index > dt] = person_df.iloc[idx]['PERSON_NUMBER']\n",
    "    else:\n",
    "        pn_df[(pn_df.index > dt) & (pn_df.index < person_df.index.values[idx+1])] = person_df.iloc[idx]['PERSON_NUMBER']"
   ],
   "metadata": {
    "collapsed": false,
    "pycharm": {
     "name": "#%%\n"
    }
   }
  },
  {
   "cell_type": "code",
   "execution_count": 161,
   "outputs": [],
   "source": [
    "size = len(ap_df.index.values)\n",
    "ap = total_df['AIR_PURIFIER']\n",
    "\n",
    "for idx, dt in enumerate(ap_df.index.values):\n",
    "    if idx == size - 1:\n",
    "        ap[ap.index > dt] = 1 if ap_df.iloc[idx]['ACTIVITY'] == 'On' else 0\n",
    "    else:\n",
    "        ap[(ap.index > dt) & (ap.index < ap_df.index.values[idx+1])] = 1 if ap_df.iloc[idx]['ACTIVITY'] == 'On' else 0"
   ],
   "metadata": {
    "collapsed": false,
    "pycharm": {
     "name": "#%%\n"
    }
   }
  },
  {
   "cell_type": "code",
   "execution_count": 164,
   "outputs": [
    {
     "name": "stderr",
     "output_type": "stream",
     "text": [
      "/var/folders/58/x3g7q1s97rn5dkfks3kbh5jc0000gn/T/ipykernel_11635/4099487291.py:8: SettingWithCopyWarning: \n",
      "A value is trying to be set on a copy of a slice from a DataFrame\n",
      "\n",
      "See the caveats in the documentation: https://pandas.pydata.org/pandas-docs/stable/user_guide/indexing.html#returning-a-view-versus-a-copy\n",
      "  win[(win.index > dt) & (win.index < window_df.index.values[idx+1])] = 1 if window_df.iloc[idx]['ACTIVITY'] == 'Opened' else 0\n",
      "/var/folders/58/x3g7q1s97rn5dkfks3kbh5jc0000gn/T/ipykernel_11635/4099487291.py:6: SettingWithCopyWarning: \n",
      "A value is trying to be set on a copy of a slice from a DataFrame\n",
      "\n",
      "See the caveats in the documentation: https://pandas.pydata.org/pandas-docs/stable/user_guide/indexing.html#returning-a-view-versus-a-copy\n",
      "  win[win.index > dt] = 1 if window_df.iloc[idx]['ACTIVITY'] == 'Opened' else 0\n"
     ]
    }
   ],
   "source": [
    "size = len(window_df.index.values)\n",
    "win = total_df['WINDOW']\n",
    "\n",
    "for idx, dt in enumerate(window_df.index.values):\n",
    "    if idx == size - 1:\n",
    "        win[win.index > dt] = 1 if window_df.iloc[idx]['ACTIVITY'] == 'Opened' else 0\n",
    "    else:\n",
    "        win[(win.index > dt) & (win.index < window_df.index.values[idx+1])] = 1 if window_df.iloc[idx]['ACTIVITY'] == 'Opened' else 0"
   ],
   "metadata": {
    "collapsed": false,
    "pycharm": {
     "name": "#%%\n"
    }
   }
  },
  {
   "cell_type": "code",
   "execution_count": 170,
   "outputs": [],
   "source": [
    "total_df.to_csv('~/Desktop/particles_inout.csv', index_label='DATE')"
   ],
   "metadata": {
    "collapsed": false,
    "pycharm": {
     "name": "#%%\n"
    }
   }
  },
  {
   "cell_type": "code",
   "execution_count": 171,
   "outputs": [
    {
     "data": {
      "text/plain": "                      DATE   PM1  PM2.5  PM10  PM1_H_OUT  PM2.5_H_OUT  \\\n0      2022-03-07 14:49:00   8.0   12.4  13.8        0.0          0.0   \n1      2022-03-07 14:50:00   7.8   12.0  12.2        4.0          8.0   \n2      2022-03-07 14:51:00   8.2   12.6  13.0        5.0          6.0   \n3      2022-03-07 14:52:00   8.2   12.8  13.6        4.0          7.0   \n4      2022-03-07 14:53:00   7.8   11.4  12.0        4.0          8.0   \n...                    ...   ...    ...   ...        ...          ...   \n56181  2022-04-15 15:10:00  18.4   28.6  31.6       10.0         18.0   \n56182  2022-04-15 15:11:00  19.6   30.2  32.6       10.0         16.0   \n56183  2022-04-15 15:12:00  20.0   30.0  33.4       10.0         15.0   \n56184  2022-04-15 15:13:00  19.6   30.6  32.6       10.0         17.0   \n56185  2022-04-15 15:14:00  18.2   31.0  34.0       11.0         16.0   \n\n       PM10_H_OUT  PM1_OUT  PM2.5_OUT  PM10_OUT  PERSON_NUMBER  AIR_PURIFIER  \\\n0             0.0     21.0       31.0      32.0            0.0           0.0   \n1             8.0     20.0       28.0      30.0            0.0           0.0   \n2             7.0     22.0       32.0      34.0            0.0           0.0   \n3             7.0     19.0       31.0      34.0            0.0           0.0   \n4             9.0     21.0       31.0      34.0            0.0           0.0   \n...           ...      ...        ...       ...            ...           ...   \n56181        19.0     19.0       31.0      34.0            5.0           0.0   \n56182        16.0     18.0       27.0      27.0            5.0           0.0   \n56183        17.0     20.0       28.0      32.0            5.0           0.0   \n56184        17.0     16.0       25.0      26.0            5.0           0.0   \n56185        16.0     20.0       28.0      28.0            5.0           0.0   \n\n       WINDOW  \n0         0.0  \n1         0.0  \n2         0.0  \n3         0.0  \n4         0.0  \n...       ...  \n56181     1.0  \n56182     1.0  \n56183     1.0  \n56184     1.0  \n56185     1.0  \n\n[56186 rows x 13 columns]",
      "text/html": "<div>\n<style scoped>\n    .dataframe tbody tr th:only-of-type {\n        vertical-align: middle;\n    }\n\n    .dataframe tbody tr th {\n        vertical-align: top;\n    }\n\n    .dataframe thead th {\n        text-align: right;\n    }\n</style>\n<table border=\"1\" class=\"dataframe\">\n  <thead>\n    <tr style=\"text-align: right;\">\n      <th></th>\n      <th>DATE</th>\n      <th>PM1</th>\n      <th>PM2.5</th>\n      <th>PM10</th>\n      <th>PM1_H_OUT</th>\n      <th>PM2.5_H_OUT</th>\n      <th>PM10_H_OUT</th>\n      <th>PM1_OUT</th>\n      <th>PM2.5_OUT</th>\n      <th>PM10_OUT</th>\n      <th>PERSON_NUMBER</th>\n      <th>AIR_PURIFIER</th>\n      <th>WINDOW</th>\n    </tr>\n  </thead>\n  <tbody>\n    <tr>\n      <th>0</th>\n      <td>2022-03-07 14:49:00</td>\n      <td>8.0</td>\n      <td>12.4</td>\n      <td>13.8</td>\n      <td>0.0</td>\n      <td>0.0</td>\n      <td>0.0</td>\n      <td>21.0</td>\n      <td>31.0</td>\n      <td>32.0</td>\n      <td>0.0</td>\n      <td>0.0</td>\n      <td>0.0</td>\n    </tr>\n    <tr>\n      <th>1</th>\n      <td>2022-03-07 14:50:00</td>\n      <td>7.8</td>\n      <td>12.0</td>\n      <td>12.2</td>\n      <td>4.0</td>\n      <td>8.0</td>\n      <td>8.0</td>\n      <td>20.0</td>\n      <td>28.0</td>\n      <td>30.0</td>\n      <td>0.0</td>\n      <td>0.0</td>\n      <td>0.0</td>\n    </tr>\n    <tr>\n      <th>2</th>\n      <td>2022-03-07 14:51:00</td>\n      <td>8.2</td>\n      <td>12.6</td>\n      <td>13.0</td>\n      <td>5.0</td>\n      <td>6.0</td>\n      <td>7.0</td>\n      <td>22.0</td>\n      <td>32.0</td>\n      <td>34.0</td>\n      <td>0.0</td>\n      <td>0.0</td>\n      <td>0.0</td>\n    </tr>\n    <tr>\n      <th>3</th>\n      <td>2022-03-07 14:52:00</td>\n      <td>8.2</td>\n      <td>12.8</td>\n      <td>13.6</td>\n      <td>4.0</td>\n      <td>7.0</td>\n      <td>7.0</td>\n      <td>19.0</td>\n      <td>31.0</td>\n      <td>34.0</td>\n      <td>0.0</td>\n      <td>0.0</td>\n      <td>0.0</td>\n    </tr>\n    <tr>\n      <th>4</th>\n      <td>2022-03-07 14:53:00</td>\n      <td>7.8</td>\n      <td>11.4</td>\n      <td>12.0</td>\n      <td>4.0</td>\n      <td>8.0</td>\n      <td>9.0</td>\n      <td>21.0</td>\n      <td>31.0</td>\n      <td>34.0</td>\n      <td>0.0</td>\n      <td>0.0</td>\n      <td>0.0</td>\n    </tr>\n    <tr>\n      <th>...</th>\n      <td>...</td>\n      <td>...</td>\n      <td>...</td>\n      <td>...</td>\n      <td>...</td>\n      <td>...</td>\n      <td>...</td>\n      <td>...</td>\n      <td>...</td>\n      <td>...</td>\n      <td>...</td>\n      <td>...</td>\n      <td>...</td>\n    </tr>\n    <tr>\n      <th>56181</th>\n      <td>2022-04-15 15:10:00</td>\n      <td>18.4</td>\n      <td>28.6</td>\n      <td>31.6</td>\n      <td>10.0</td>\n      <td>18.0</td>\n      <td>19.0</td>\n      <td>19.0</td>\n      <td>31.0</td>\n      <td>34.0</td>\n      <td>5.0</td>\n      <td>0.0</td>\n      <td>1.0</td>\n    </tr>\n    <tr>\n      <th>56182</th>\n      <td>2022-04-15 15:11:00</td>\n      <td>19.6</td>\n      <td>30.2</td>\n      <td>32.6</td>\n      <td>10.0</td>\n      <td>16.0</td>\n      <td>16.0</td>\n      <td>18.0</td>\n      <td>27.0</td>\n      <td>27.0</td>\n      <td>5.0</td>\n      <td>0.0</td>\n      <td>1.0</td>\n    </tr>\n    <tr>\n      <th>56183</th>\n      <td>2022-04-15 15:12:00</td>\n      <td>20.0</td>\n      <td>30.0</td>\n      <td>33.4</td>\n      <td>10.0</td>\n      <td>15.0</td>\n      <td>17.0</td>\n      <td>20.0</td>\n      <td>28.0</td>\n      <td>32.0</td>\n      <td>5.0</td>\n      <td>0.0</td>\n      <td>1.0</td>\n    </tr>\n    <tr>\n      <th>56184</th>\n      <td>2022-04-15 15:13:00</td>\n      <td>19.6</td>\n      <td>30.6</td>\n      <td>32.6</td>\n      <td>10.0</td>\n      <td>17.0</td>\n      <td>17.0</td>\n      <td>16.0</td>\n      <td>25.0</td>\n      <td>26.0</td>\n      <td>5.0</td>\n      <td>0.0</td>\n      <td>1.0</td>\n    </tr>\n    <tr>\n      <th>56185</th>\n      <td>2022-04-15 15:14:00</td>\n      <td>18.2</td>\n      <td>31.0</td>\n      <td>34.0</td>\n      <td>11.0</td>\n      <td>16.0</td>\n      <td>16.0</td>\n      <td>20.0</td>\n      <td>28.0</td>\n      <td>28.0</td>\n      <td>5.0</td>\n      <td>0.0</td>\n      <td>1.0</td>\n    </tr>\n  </tbody>\n</table>\n<p>56186 rows × 13 columns</p>\n</div>"
     },
     "execution_count": 171,
     "metadata": {},
     "output_type": "execute_result"
    }
   ],
   "source": [
    "pd.read_csv('~/Desktop/particles_inout.csv')"
   ],
   "metadata": {
    "collapsed": false,
    "pycharm": {
     "name": "#%%\n"
    }
   }
  },
  {
   "cell_type": "code",
   "execution_count": null,
   "outputs": [],
   "source": [],
   "metadata": {
    "collapsed": false,
    "pycharm": {
     "name": "#%%\n"
    }
   }
  }
 ],
 "metadata": {
  "kernelspec": {
   "display_name": "Python 3",
   "language": "python",
   "name": "python3"
  },
  "language_info": {
   "codemirror_mode": {
    "name": "ipython",
    "version": 2
   },
   "file_extension": ".py",
   "mimetype": "text/x-python",
   "name": "python",
   "nbconvert_exporter": "python",
   "pygments_lexer": "ipython2",
   "version": "2.7.6"
  }
 },
 "nbformat": 4,
 "nbformat_minor": 0
}